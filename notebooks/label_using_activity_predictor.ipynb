{
 "cells": [
  {
   "cell_type": "markdown",
   "metadata": {},
   "source": [
    "# Label using activity data"
   ]
  },
  {
   "cell_type": "markdown",
   "metadata": {},
   "source": [
    "Labeling the modeled backbones with the activity predictor.   \n",
    "The labeling can be used to select best fragmetns (see ```select_bb_fragments.ipynb```) instead of using Rosetta scores as labels "
   ]
  },
  {
   "cell_type": "code",
   "execution_count": 1,
   "metadata": {},
   "outputs": [],
   "source": [
    "import sys\n",
    "import pandas as pd\n",
    "import glob\n",
    "import seaborn as sns\n",
    "import numpy as np\n",
    "from copy import deepcopy\n",
    "from sklearn.model_selection import train_test_split\n",
    "from sklearn import preprocessing\n",
    "from sklearn.neural_network import MLPClassifier\n",
    "from sklearn.metrics import classification_report,confusion_matrix\n",
    "import matplotlib.pyplot as plt\n",
    "from math import floor\n",
    "import os\n",
    "import re\n",
    "from itertools import product\n",
    "from flab.rosetta.rosetta_output.resfile import ResFile\n",
    "from matplotlib import rc\n",
    "import matplotlib.patches as mpatches\n",
    "sns.set()"
   ]
  },
  {
   "cell_type": "markdown",
   "metadata": {},
   "source": [
    "# Parsing"
   ]
  },
  {
   "cell_type": "code",
   "execution_count": 2,
   "metadata": {},
   "outputs": [],
   "source": [
    "blades_names = ['blade1', 'blade2_4', 'blade5_6', 'blade7_8']"
   ]
  },
  {
   "cell_type": "markdown",
   "metadata": {},
   "source": [
    "Loading all scores of the chimeras"
   ]
  },
  {
   "cell_type": "code",
   "execution_count": 3,
   "metadata": {},
   "outputs": [],
   "source": [
    "scores = pd.read_csv('../data/scores_all_chimeras_rnd2.csv.gz')\n",
    "scores.set_index('description', inplace=True)\n",
    "scores['description'] = scores.index\n",
    "scores['blade1'] = scores.description.apply(lambda x: x.split('__')[0])\n",
    "scores['blade2_4'] = scores.description.apply(lambda x: x.split('__')[1])\n",
    "scores['blade5_6'] = scores.description.apply(lambda x: x.split('__')[2])\n",
    "scores['blade7_8'] = scores.description.apply(lambda x: x.split('__')[3])\n",
    "scores['normed_total_score'] = scores['total_score'] / scores['nres']"
   ]
  },
  {
   "cell_type": "code",
   "execution_count": 4,
   "metadata": {
    "collapsed": true,
    "jupyter": {
     "outputs_hidden": true
    }
   },
   "outputs": [
    {
     "data": {
      "text/plain": [
       "total_score                                                          -1050.83\n",
       "contacts                                                                 1537\n",
       "dslf_fa13                                                                   0\n",
       "fa_atr                                                               -2077.07\n",
       "fa_dun                                                                401.249\n",
       "fa_elec                                                              -583.758\n",
       "fa_intra_rep                                                            3.938\n",
       "fa_intra_sol_xover4                                                    69.006\n",
       "fa_rep                                                                267.557\n",
       "fa_sol                                                                1188.41\n",
       "hbond_bb_sc                                                           -56.959\n",
       "hbond_lr_bb                                                           -58.978\n",
       "hbond_sc                                                              -68.611\n",
       "hbond_sr_bb                                                           -133.65\n",
       "lk_ball_wtd                                                           -41.697\n",
       "nres                                                                      324\n",
       "nres_loops                                                                119\n",
       "omega                                                                  64.864\n",
       "p_aa_pp                                                               -71.613\n",
       "packstat                                                                0.619\n",
       "pro_close                                                               2.278\n",
       "rama_prepro                                                           -15.203\n",
       "ref                                                                    59.274\n",
       "yhh_planarity                                                           0.131\n",
       "directory                                                                 234\n",
       "dslf_fa13_activesite                                                        0\n",
       "dslf_fa13_catres                                                            0\n",
       "fa_atr_activesite                                                    -110.864\n",
       "fa_atr_catres                                                         -28.805\n",
       "fa_dun_activesite                                                      37.832\n",
       "                                                  ...                        \n",
       "hbond_sc_catres                                                        -2.852\n",
       "hbond_sr_bb_activesite                                                 -1.591\n",
       "hbond_sr_bb_catres                                                          0\n",
       "lk_ball_wtd_activesite                                                 -4.053\n",
       "lk_ball_wtd_catres                                                      -1.77\n",
       "omega_activesite                                                        9.848\n",
       "omega_catres                                                            4.539\n",
       "p_aa_pp_activesite                                                     -1.874\n",
       "p_aa_pp_catres                                                         -0.256\n",
       "pro_close_activesite                                                        0\n",
       "pro_close_catres                                                            0\n",
       "rama_prepro_activesite                                                  4.875\n",
       "rama_prepro_catres                                                      4.237\n",
       "ref_activesite                                                         -9.047\n",
       "ref_catres                                                              -6.05\n",
       "yhh_planarity_activesite                                                    0\n",
       "yhh_planarity_catres                                                        0\n",
       "catres                                                         85,146,223,251\n",
       "activesite                  85,146,223,251,48,49,52,89,92,145,189,190,221,...\n",
       "nres_catres                                                                 4\n",
       "nres_activesite                                                            15\n",
       "degree                                                                 11.272\n",
       "degree_activesite                                                      10.867\n",
       "degree_catres                                                           11.75\n",
       "description                 3w24_template__3w24_template__3w24_template__3...\n",
       "blade1                                                          3w24_template\n",
       "blade2_4                                                        3w24_template\n",
       "blade5_6                                                        3w24_template\n",
       "blade7_8                                                        3w24_template\n",
       "normed_total_score                                                   -3.24331\n",
       "Name: 3w24_template__3w24_template__3w24_template__3w24_template, Length: 76, dtype: object"
      ]
     },
     "execution_count": 4,
     "metadata": {},
     "output_type": "execute_result"
    }
   ],
   "source": [
    "wt_label = '3w24_template__3w24_template__3w24_template__3w24_template'\n",
    "WT = scores.loc[wt_label]\n",
    "WT"
   ]
  },
  {
   "cell_type": "markdown",
   "metadata": {},
   "source": [
    "# Assigning labels using ml model trained on repertoire 1 data"
   ]
  },
  {
   "cell_type": "markdown",
   "metadata": {},
   "source": [
    "## Step 1: features for the logit model"
   ]
  },
  {
   "cell_type": "code",
   "execution_count": 5,
   "metadata": {},
   "outputs": [],
   "source": [
    "logit_features = scores[['total_score', 'contacts', 'yhh_planarity', \n",
    "                         'p_aa_pp', \n",
    "                         'hbond_bb_sc', 'hbond_lr_bb', 'hbond_sc', 'hbond_sr_bb',\n",
    "                         'nres']].copy()"
   ]
  },
  {
   "cell_type": "code",
   "execution_count": 6,
   "metadata": {},
   "outputs": [
    {
     "data": {
      "text/html": [
       "<div>\n",
       "<style scoped>\n",
       "    .dataframe tbody tr th:only-of-type {\n",
       "        vertical-align: middle;\n",
       "    }\n",
       "\n",
       "    .dataframe tbody tr th {\n",
       "        vertical-align: top;\n",
       "    }\n",
       "\n",
       "    .dataframe thead th {\n",
       "        text-align: right;\n",
       "    }\n",
       "</style>\n",
       "<table border=\"1\" class=\"dataframe\">\n",
       "  <thead>\n",
       "    <tr style=\"text-align: right;\">\n",
       "      <th></th>\n",
       "      <th>total_score</th>\n",
       "      <th>hbond</th>\n",
       "      <th>p_aa_pp</th>\n",
       "      <th>yhh_planarity</th>\n",
       "      <th>contacts</th>\n",
       "    </tr>\n",
       "    <tr>\n",
       "      <th>description</th>\n",
       "      <th></th>\n",
       "      <th></th>\n",
       "      <th></th>\n",
       "      <th></th>\n",
       "      <th></th>\n",
       "    </tr>\n",
       "  </thead>\n",
       "  <tbody>\n",
       "    <tr>\n",
       "      <th>3wubA__3wufA__1ta3B__2depB</th>\n",
       "      <td>-2.546663</td>\n",
       "      <td>-0.888837</td>\n",
       "      <td>-0.193564</td>\n",
       "      <td>0.001031</td>\n",
       "      <td>4.076687</td>\n",
       "    </tr>\n",
       "    <tr>\n",
       "      <th>1nq6A__1ur2A__4f8xA__1uqzA</th>\n",
       "      <td>-2.639948</td>\n",
       "      <td>-0.864557</td>\n",
       "      <td>-0.216141</td>\n",
       "      <td>0.000445</td>\n",
       "      <td>4.433908</td>\n",
       "    </tr>\n",
       "    <tr>\n",
       "      <th>1us3A__4hu8E__3ro8D__1e5nB</th>\n",
       "      <td>-2.582309</td>\n",
       "      <td>-0.899680</td>\n",
       "      <td>-0.192710</td>\n",
       "      <td>0.000345</td>\n",
       "      <td>4.125348</td>\n",
       "    </tr>\n",
       "    <tr>\n",
       "      <th>3w24_template__4k68B__4w8lB__3emcA</th>\n",
       "      <td>-2.919425</td>\n",
       "      <td>-0.957518</td>\n",
       "      <td>-0.219870</td>\n",
       "      <td>0.000593</td>\n",
       "      <td>4.653614</td>\n",
       "    </tr>\n",
       "    <tr>\n",
       "      <th>5ay7A__4w8lC__4pmdA__4pmyA</th>\n",
       "      <td>-2.286078</td>\n",
       "      <td>-0.828508</td>\n",
       "      <td>-0.217941</td>\n",
       "      <td>0.000670</td>\n",
       "      <td>4.149533</td>\n",
       "    </tr>\n",
       "    <tr>\n",
       "      <th>4w8lC__3wufA__4xx6B__4qdmA</th>\n",
       "      <td>-2.697079</td>\n",
       "      <td>-0.868515</td>\n",
       "      <td>-0.207642</td>\n",
       "      <td>0.001258</td>\n",
       "      <td>4.700000</td>\n",
       "    </tr>\n",
       "    <tr>\n",
       "      <th>3muiA__3ro8B__1b3zA__1v6yA</th>\n",
       "      <td>-2.426925</td>\n",
       "      <td>-0.816207</td>\n",
       "      <td>-0.202464</td>\n",
       "      <td>0.001021</td>\n",
       "      <td>3.934132</td>\n",
       "    </tr>\n",
       "    <tr>\n",
       "      <th>1us3A__2wysB__3u7bC__1nq6A</th>\n",
       "      <td>-2.481695</td>\n",
       "      <td>-0.870413</td>\n",
       "      <td>-0.228348</td>\n",
       "      <td>0.001342</td>\n",
       "      <td>3.840456</td>\n",
       "    </tr>\n",
       "    <tr>\n",
       "      <th>1b3xA__1ta3B__3u7bC__3w24_template</th>\n",
       "      <td>-2.578856</td>\n",
       "      <td>-0.892125</td>\n",
       "      <td>-0.211169</td>\n",
       "      <td>0.001772</td>\n",
       "      <td>4.150000</td>\n",
       "    </tr>\n",
       "    <tr>\n",
       "      <th>1nq6A__4w8lC__3w24_template__4qdmA</th>\n",
       "      <td>-2.852769</td>\n",
       "      <td>-0.921537</td>\n",
       "      <td>-0.226714</td>\n",
       "      <td>0.001009</td>\n",
       "      <td>4.271429</td>\n",
       "    </tr>\n",
       "  </tbody>\n",
       "</table>\n",
       "</div>"
      ],
      "text/plain": [
       "                                    total_score     hbond   p_aa_pp  \\\n",
       "description                                                           \n",
       "3wubA__3wufA__1ta3B__2depB            -2.546663 -0.888837 -0.193564   \n",
       "1nq6A__1ur2A__4f8xA__1uqzA            -2.639948 -0.864557 -0.216141   \n",
       "1us3A__4hu8E__3ro8D__1e5nB            -2.582309 -0.899680 -0.192710   \n",
       "3w24_template__4k68B__4w8lB__3emcA    -2.919425 -0.957518 -0.219870   \n",
       "5ay7A__4w8lC__4pmdA__4pmyA            -2.286078 -0.828508 -0.217941   \n",
       "4w8lC__3wufA__4xx6B__4qdmA            -2.697079 -0.868515 -0.207642   \n",
       "3muiA__3ro8B__1b3zA__1v6yA            -2.426925 -0.816207 -0.202464   \n",
       "1us3A__2wysB__3u7bC__1nq6A            -2.481695 -0.870413 -0.228348   \n",
       "1b3xA__1ta3B__3u7bC__3w24_template    -2.578856 -0.892125 -0.211169   \n",
       "1nq6A__4w8lC__3w24_template__4qdmA    -2.852769 -0.921537 -0.226714   \n",
       "\n",
       "                                    yhh_planarity  contacts  \n",
       "description                                                  \n",
       "3wubA__3wufA__1ta3B__2depB               0.001031  4.076687  \n",
       "1nq6A__1ur2A__4f8xA__1uqzA               0.000445  4.433908  \n",
       "1us3A__4hu8E__3ro8D__1e5nB               0.000345  4.125348  \n",
       "3w24_template__4k68B__4w8lB__3emcA       0.000593  4.653614  \n",
       "5ay7A__4w8lC__4pmdA__4pmyA               0.000670  4.149533  \n",
       "4w8lC__3wufA__4xx6B__4qdmA               0.001258  4.700000  \n",
       "3muiA__3ro8B__1b3zA__1v6yA               0.001021  3.934132  \n",
       "1us3A__2wysB__3u7bC__1nq6A               0.001342  3.840456  \n",
       "1b3xA__1ta3B__3u7bC__3w24_template       0.001772  4.150000  \n",
       "1nq6A__4w8lC__3w24_template__4qdmA       0.001009  4.271429  "
      ]
     },
     "execution_count": 6,
     "metadata": {},
     "output_type": "execute_result"
    }
   ],
   "source": [
    "normed_cols = ['total_score', 'contacts', 'yhh_planarity',\n",
    "               'hbond_bb_sc', 'hbond_lr_bb', 'hbond_sc', 'hbond_sr_bb',\n",
    "               'p_aa_pp']\n",
    "\n",
    "for c in normed_cols:\n",
    "    logit_features[c] = logit_features[c] / logit_features['nres']  \n",
    "\n",
    "logit_features['hbond'] = logit_features[['hbond_bb_sc', 'hbond_lr_bb', 'hbond_sc', 'hbond_sr_bb']].sum(axis=1)    \n",
    "logit_features = logit_features[['total_score', 'hbond', 'p_aa_pp', 'yhh_planarity', 'contacts']]\n",
    "\n",
    "logit_features.sample(10)"
   ]
  },
  {
   "cell_type": "markdown",
   "metadata": {},
   "source": [
    "The cell below is to be used if using the activity model including activeaite features"
   ]
  },
  {
   "cell_type": "code",
   "execution_count": null,
   "metadata": {},
   "outputs": [],
   "source": [
    "# logit_features = scores[['total_score', 'contacts', 'yhh_planarity',\n",
    "#                          'fa_rep_catres', 'degree_activesite', \n",
    "#                          'p_aa_pp', 'p_aa_pp_activesite', 'p_aa_pp_catres', \n",
    "#                          'fa_atr_activesite', 'fa_rep_activesite',\n",
    "#                          'hbond_bb_sc', 'hbond_lr_bb', 'hbond_sc', 'hbond_sr_bb',\n",
    "#                          'nres', 'nres_activesite']].copy()\n",
    "\n",
    "# for c in logit_features.columns:\n",
    "#     if c in ['degree_activesite', 'nres', 'nres_activesite']:\n",
    "#         continue\n",
    "#     if 'catres' in c:\n",
    "#         continue\n",
    "#     norm_by = 'nres_activesite' if 'activesite' in c else 'nres'  \n",
    "#     print(c, norm_by)\n",
    "#     logit_features[c] = logit_features[c] / logit_features[norm_by]  \n",
    "\n",
    "# logit_features['hbond'] = logit_features[['hbond_bb_sc', 'hbond_lr_bb', 'hbond_sc', 'hbond_sr_bb']].sum(axis=1)    \n",
    "# logit_features['vdw_activesite'] = logit_features.apply(lambda r: r['fa_atr_activesite'] + 0.55*r['fa_rep_activesite'], axis=1)\n",
    "\n",
    "# logit_features = logit_features[[c for c in logit_xylanase_model.params.keys() if c != 'intercept']]"
   ]
  },
  {
   "cell_type": "markdown",
   "metadata": {},
   "source": [
    "## Step 2: load ml model and use it to predict the labels\n",
    "\n",
    "I'm using the whole-structure model I have trained using the data from the previous round"
   ]
  },
  {
   "cell_type": "code",
   "execution_count": 7,
   "metadata": {},
   "outputs": [],
   "source": [
    "import statsmodels.api as smapi\n",
    "logit_xylanase_model = smapi.load('../ml_models/logit_xylanases_structure.pickle')"
   ]
  },
  {
   "cell_type": "code",
   "execution_count": 8,
   "metadata": {},
   "outputs": [],
   "source": [
    "scaler = preprocessing.StandardScaler()\n",
    "\n",
    "X = pd.DataFrame(scaler.fit_transform(logit_features[['total_score', 'hbond', 'p_aa_pp', 'yhh_planarity', 'contacts']]), \n",
    "                 columns=['total_score', 'hbond', 'p_aa_pp', 'yhh_planarity', 'contacts'])\n",
    "\n",
    "X['intercept'] = 1.0  # so we don't need to use sm.add_constant every time\n",
    "X.set_index(logit_features.index, inplace=True)"
   ]
  },
  {
   "cell_type": "code",
   "execution_count": 9,
   "metadata": {},
   "outputs": [],
   "source": [
    "def predict(modelParams, X, threshold=0.88):  \n",
    "    y_proba = modelParams.predict(X[modelParams.params.index.tolist()], transform=False)\n",
    "    data = pd.DataFrame(y_proba, columns=['proba'])\n",
    "    data['pred'] = data.proba.apply(lambda x: 1 if x >= threshold else 0)\n",
    "    return data"
   ]
  },
  {
   "cell_type": "code",
   "execution_count": 10,
   "metadata": {},
   "outputs": [
    {
     "data": {
      "text/plain": [
       "4178"
      ]
     },
     "execution_count": 10,
     "metadata": {},
     "output_type": "execute_result"
    }
   ],
   "source": [
    "predictions = predict(logit_xylanase_model, X[logit_xylanase_model.params.index.tolist()])\n",
    "predictions.pred.sum()"
   ]
  },
  {
   "cell_type": "code",
   "execution_count": 11,
   "metadata": {},
   "outputs": [],
   "source": [
    "logit_features = logit_features[['total_score', 'hbond', 'p_aa_pp', 'yhh_planarity', 'contacts']]\n",
    "logit_features = pd.merge(logit_features, predictions, right_index=True, left_index=True)"
   ]
  }
 ],
 "metadata": {
  "kernelspec": {
   "display_name": "Python 3",
   "language": "python",
   "name": "python3"
  },
  "language_info": {
   "codemirror_mode": {
    "name": "ipython",
    "version": 3
   },
   "file_extension": ".py",
   "mimetype": "text/x-python",
   "name": "python",
   "nbconvert_exporter": "python",
   "pygments_lexer": "ipython3",
   "version": "3.6.7"
  }
 },
 "nbformat": 4,
 "nbformat_minor": 4
}
