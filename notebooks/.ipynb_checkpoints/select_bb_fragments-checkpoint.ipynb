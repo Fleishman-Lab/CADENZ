{
 "cells": [
  {
   "cell_type": "markdown",
   "metadata": {},
   "source": [
    "# Selecting best fragments per segment"
   ]
  },
  {
   "cell_type": "code",
   "execution_count": 1,
   "metadata": {},
   "outputs": [],
   "source": [
    "import sys\n",
    "from math import floor\n",
    "import os\n",
    "import re\n",
    "import pandas as pd\n",
    "import glob\n",
    "import numpy as np\n",
    "from itertools import product\n",
    "\n",
    "from sklearn.model_selection import train_test_split\n",
    "from sklearn import preprocessing\n",
    "from sklearn.neural_network import MLPClassifier\n",
    "from sklearn.metrics import classification_report,confusion_matrix\n",
    "\n",
    "import seaborn as sns\n",
    "import matplotlib.pyplot as plt\n",
    "from matplotlib import rc\n",
    "import matplotlib.patches as mpatches"
   ]
  },
  {
   "cell_type": "markdown",
   "metadata": {},
   "source": [
    "## 1. Load data"
   ]
  },
  {
   "cell_type": "code",
   "execution_count": 2,
   "metadata": {},
   "outputs": [],
   "source": [
    "blades_names = ['blade1', 'blade2_4', 'blade5_6', 'blade7_8']"
   ]
  },
  {
   "cell_type": "code",
   "execution_count": 3,
   "metadata": {},
   "outputs": [
    {
     "name": "stdout",
     "output_type": "stream",
     "text": [
      "chimera\n",
      "blade1\n",
      "blade2_4\n",
      "blade5_6\n",
      "blade7_8\n"
     ]
    },
    {
     "data": {
      "text/html": [
       "<div>\n",
       "<style scoped>\n",
       "    .dataframe tbody tr th:only-of-type {\n",
       "        vertical-align: middle;\n",
       "    }\n",
       "\n",
       "    .dataframe tbody tr th {\n",
       "        vertical-align: top;\n",
       "    }\n",
       "\n",
       "    .dataframe thead th {\n",
       "        text-align: right;\n",
       "    }\n",
       "</style>\n",
       "<table border=\"1\" class=\"dataframe\">\n",
       "  <thead>\n",
       "    <tr style=\"text-align: right;\">\n",
       "      <th></th>\n",
       "      <th>directory</th>\n",
       "      <th>chimera</th>\n",
       "      <th>packstat</th>\n",
       "      <th>score</th>\n",
       "      <th>pro_close</th>\n",
       "      <th>hb_sc</th>\n",
       "      <th>rmsd</th>\n",
       "      <th>blade1</th>\n",
       "      <th>blade2_4</th>\n",
       "      <th>blade5_6</th>\n",
       "      <th>blade7_8</th>\n",
       "    </tr>\n",
       "  </thead>\n",
       "  <tbody>\n",
       "    <tr>\n",
       "      <th>0</th>\n",
       "      <td>317.0</td>\n",
       "      <td>3emqA_4hu8E_1w2pB_1uqzA</td>\n",
       "      <td>0.575694</td>\n",
       "      <td>-954.400</td>\n",
       "      <td>4.65409</td>\n",
       "      <td>-51.0179</td>\n",
       "      <td>0.860080</td>\n",
       "      <td>3emqA</td>\n",
       "      <td>4hu8E</td>\n",
       "      <td>1w2pB</td>\n",
       "      <td>1uqzA</td>\n",
       "    </tr>\n",
       "    <tr>\n",
       "      <th>1</th>\n",
       "      <td>317.0</td>\n",
       "      <td>3emqA_4hu8E_5ay7A_1e5nB</td>\n",
       "      <td>0.546006</td>\n",
       "      <td>-883.687</td>\n",
       "      <td>3.92533</td>\n",
       "      <td>-59.2707</td>\n",
       "      <td>0.895929</td>\n",
       "      <td>3emqA</td>\n",
       "      <td>4hu8E</td>\n",
       "      <td>5ay7A</td>\n",
       "      <td>1e5nB</td>\n",
       "    </tr>\n",
       "    <tr>\n",
       "      <th>2</th>\n",
       "      <td>317.0</td>\n",
       "      <td>3emqA_4hu8E_5ay7A_1nq6A</td>\n",
       "      <td>0.514670</td>\n",
       "      <td>-747.942</td>\n",
       "      <td>3.85254</td>\n",
       "      <td>-44.0811</td>\n",
       "      <td>0.856480</td>\n",
       "      <td>3emqA</td>\n",
       "      <td>4hu8E</td>\n",
       "      <td>5ay7A</td>\n",
       "      <td>1nq6A</td>\n",
       "    </tr>\n",
       "    <tr>\n",
       "      <th>3</th>\n",
       "      <td>317.0</td>\n",
       "      <td>3emqA_4hu8E_5ay7A_1r85A</td>\n",
       "      <td>0.620094</td>\n",
       "      <td>-998.464</td>\n",
       "      <td>3.94747</td>\n",
       "      <td>-51.5800</td>\n",
       "      <td>0.872473</td>\n",
       "      <td>3emqA</td>\n",
       "      <td>4hu8E</td>\n",
       "      <td>5ay7A</td>\n",
       "      <td>1r85A</td>\n",
       "    </tr>\n",
       "    <tr>\n",
       "      <th>4</th>\n",
       "      <td>317.0</td>\n",
       "      <td>3emqA_4hu8E_5ay7A_1uqzA</td>\n",
       "      <td>0.600367</td>\n",
       "      <td>-930.996</td>\n",
       "      <td>4.56673</td>\n",
       "      <td>-52.3104</td>\n",
       "      <td>0.865829</td>\n",
       "      <td>3emqA</td>\n",
       "      <td>4hu8E</td>\n",
       "      <td>5ay7A</td>\n",
       "      <td>1uqzA</td>\n",
       "    </tr>\n",
       "  </tbody>\n",
       "</table>\n",
       "</div>"
      ],
      "text/plain": [
       "   directory                  chimera  packstat    score  pro_close    hb_sc  \\\n",
       "0      317.0  3emqA_4hu8E_1w2pB_1uqzA  0.575694 -954.400    4.65409 -51.0179   \n",
       "1      317.0  3emqA_4hu8E_5ay7A_1e5nB  0.546006 -883.687    3.92533 -59.2707   \n",
       "2      317.0  3emqA_4hu8E_5ay7A_1nq6A  0.514670 -747.942    3.85254 -44.0811   \n",
       "3      317.0  3emqA_4hu8E_5ay7A_1r85A  0.620094 -998.464    3.94747 -51.5800   \n",
       "4      317.0  3emqA_4hu8E_5ay7A_1uqzA  0.600367 -930.996    4.56673 -52.3104   \n",
       "\n",
       "       rmsd blade1 blade2_4 blade5_6 blade7_8  \n",
       "0  0.860080  3emqA    4hu8E    1w2pB    1uqzA  \n",
       "1  0.895929  3emqA    4hu8E    5ay7A    1e5nB  \n",
       "2  0.856480  3emqA    4hu8E    5ay7A    1nq6A  \n",
       "3  0.872473  3emqA    4hu8E    5ay7A    1r85A  \n",
       "4  0.865829  3emqA    4hu8E    5ay7A    1uqzA  "
      ]
     },
     "execution_count": 3,
     "metadata": {},
     "output_type": "execute_result"
    }
   ],
   "source": [
    "data = pd.read_csv('../data/scores_all_chimeras_rnd1.csv')\n",
    "\n",
    "for col in data.columns:\n",
    "    try:\n",
    "        data[col] = data[col].astype(float)\n",
    "    except:\n",
    "        print(col)\n",
    "data.head()        "
   ]
  },
  {
   "cell_type": "code",
   "execution_count": 4,
   "metadata": {},
   "outputs": [
    {
     "data": {
      "text/plain": [
       "directory                                                  759\n",
       "chimera      3w24_template_3w24_template_3w24_template_3w24...\n",
       "packstat                                              0.637716\n",
       "score                                                  -1044.8\n",
       "pro_close                                              2.43356\n",
       "hb_sc                                                 -62.5632\n",
       "rmsd                                                  0.819711\n",
       "blade1                                           3w24_template\n",
       "blade2_4                                         3w24_template\n",
       "blade5_6                                         3w24_template\n",
       "blade7_8                                         3w24_template\n",
       "Name: 169117, dtype: object"
      ]
     },
     "execution_count": 4,
     "metadata": {},
     "output_type": "execute_result"
    }
   ],
   "source": [
    "WT = data[data.chimera == '3w24_template_3w24_template_3w24_template_3w24_template'].iloc[0]\n",
    "WT"
   ]
  },
  {
   "cell_type": "markdown",
   "metadata": {},
   "source": [
    "## 2. Prepare for training\n",
    "The labeling is change depending on what modeling step.\n",
    "Here the features are the blades names and output is based on the Rosetta score.\n",
    "In the sequnce design step the features can be changed to the present point mutations in the design.\n",
    "In later desing rounds the labeling can be based on the activity predictor (see label_using_activity_predictor.ipynb)."
   ]
  },
  {
   "cell_type": "markdown",
   "metadata": {},
   "source": [
    "### Setting labels\n"
   ]
  },
  {
   "cell_type": "code",
   "execution_count": 5,
   "metadata": {},
   "outputs": [],
   "source": [
    "LABEL = 'y'\n",
    "NLABEL = 'negative'\n",
    "N = len(data)\n",
    "features = blades_names"
   ]
  },
  {
   "cell_type": "markdown",
   "metadata": {},
   "source": [
    "To label \"1\" I want packstat > 0.6 and top10% of the total score"
   ]
  },
  {
   "cell_type": "code",
   "execution_count": 6,
   "metadata": {},
   "outputs": [
    {
     "name": "stdout",
     "output_type": "stream",
     "text": [
      "score cutoff -967.317\n",
      "there are 13163 chimeras labeled 1\n"
     ]
    }
   ],
   "source": [
    "data.sort_values('score', inplace=True)\n",
    "top10_limit = data.iloc[int(0.1 * N)].score\n",
    "print('score cutoff', top10_limit)\n",
    "data[LABEL] = 0\n",
    "data.loc[(data.score <= top10_limit) & (data.packstat >= 0.6), LABEL] = 1\n",
    "print('there are', data[LABEL].sum(), 'chimeras labeled 1')"
   ]
  },
  {
   "cell_type": "markdown",
   "metadata": {},
   "source": [
    "The negative set is set to be the bottom 50% of the data"
   ]
  },
  {
   "cell_type": "code",
   "execution_count": 7,
   "metadata": {},
   "outputs": [],
   "source": [
    "N = len(data)\n",
    "nlabel = np.zeros(N)\n",
    "nlabel[int(0.5 * N):] = 1\n",
    "data[NLABEL] = nlabel"
   ]
  },
  {
   "cell_type": "code",
   "execution_count": 8,
   "metadata": {},
   "outputs": [
    {
     "data": {
      "text/html": [
       "<div>\n",
       "<style scoped>\n",
       "    .dataframe tbody tr th:only-of-type {\n",
       "        vertical-align: middle;\n",
       "    }\n",
       "\n",
       "    .dataframe tbody tr th {\n",
       "        vertical-align: top;\n",
       "    }\n",
       "\n",
       "    .dataframe thead th {\n",
       "        text-align: right;\n",
       "    }\n",
       "</style>\n",
       "<table border=\"1\" class=\"dataframe\">\n",
       "  <thead>\n",
       "    <tr style=\"text-align: right;\">\n",
       "      <th></th>\n",
       "      <th>stat</th>\n",
       "      <th>value</th>\n",
       "    </tr>\n",
       "  </thead>\n",
       "  <tbody>\n",
       "    <tr>\n",
       "      <th>0</th>\n",
       "      <td>FuncLib size</td>\n",
       "      <td>261326</td>\n",
       "    </tr>\n",
       "    <tr>\n",
       "      <th>1</th>\n",
       "      <td>WT score</td>\n",
       "      <td>-1044.8</td>\n",
       "    </tr>\n",
       "    <tr>\n",
       "      <th>2</th>\n",
       "      <td>limit for label 1 (top 10%)</td>\n",
       "      <td>-967.317</td>\n",
       "    </tr>\n",
       "    <tr>\n",
       "      <th>3</th>\n",
       "      <td>Labeled 1</td>\n",
       "      <td>13163 (5.04%)</td>\n",
       "    </tr>\n",
       "    <tr>\n",
       "      <th>4</th>\n",
       "      <td>Labeled negative</td>\n",
       "      <td>130663 (50.00%)</td>\n",
       "    </tr>\n",
       "    <tr>\n",
       "      <th>5</th>\n",
       "      <td>Non classified</td>\n",
       "      <td>117500 (44.96%)</td>\n",
       "    </tr>\n",
       "  </tbody>\n",
       "</table>\n",
       "</div>"
      ],
      "text/plain": [
       "                          stat            value\n",
       "0                 FuncLib size           261326\n",
       "1                     WT score          -1044.8\n",
       "2  limit for label 1 (top 10%)         -967.317\n",
       "3                    Labeled 1    13163 (5.04%)\n",
       "4             Labeled negative  130663 (50.00%)\n",
       "5               Non classified  117500 (44.96%)"
      ]
     },
     "execution_count": 8,
     "metadata": {},
     "output_type": "execute_result"
    }
   ],
   "source": [
    "label_rates = pd.DataFrame(columns=['stat', 'value'])\n",
    "label_rates.loc[len(label_rates)] = ['FuncLib size', N]\n",
    "\n",
    "label_rates.loc[len(label_rates)] = ['WT score', WT.score]\n",
    "label_rates.loc[len(label_rates)] = ['limit for label 1 (top 10%)', top10_limit]\n",
    "\n",
    "l1 = len(data[data.y == 1])\n",
    "label_rates.loc[len(label_rates)] = ['Labeled 1', '{} ({:.2f}%)'.format(l1, (l1/N) * 100)]\n",
    "l_neg = len(data[data[NLABEL] == 1]) \n",
    "label_rates.loc[len(label_rates)] = ['Labeled negative', '{} ({:.2f}%)'.format(l_neg, (l_neg/N) * 100)]\n",
    "non = len(data[(data.y == 0) & (data.negative == 0)])\n",
    "label_rates.loc[len(label_rates)] = ['Non classified', '{} ({:.2f}%)'.format(non, (non/N) * 100)]\n",
    "          \n",
    "label_rates"
   ]
  },
  {
   "cell_type": "markdown",
   "metadata": {},
   "source": [
    "### Features preparation\n",
    "Creating the features for the NN to train on. We use one-hot encoding of the data "
   ]
  },
  {
   "cell_type": "code",
   "execution_count": 9,
   "metadata": {},
   "outputs": [],
   "source": [
    "encoded_table = pd.get_dummies(data[features])\n",
    "FEATURES = encoded_table.columns\n",
    "data[FEATURES] = encoded_table"
   ]
  },
  {
   "cell_type": "code",
   "execution_count": 10,
   "metadata": {},
   "outputs": [],
   "source": [
    "X_train = data[FEATURES]\n",
    "y_train = pd.DataFrame(data[LABEL], columns=[LABEL])"
   ]
  },
  {
   "cell_type": "markdown",
   "metadata": {},
   "source": [
    "## 3. NN Model "
   ]
  },
  {
   "cell_type": "markdown",
   "metadata": {},
   "source": [
    "### Training the model"
   ]
  },
  {
   "cell_type": "code",
   "execution_count": 11,
   "metadata": {},
   "outputs": [
    {
     "name": "stderr",
     "output_type": "stream",
     "text": [
      "/home/labs/fleishman/rosaliel/anaconda3/envs/pyrosetta/lib/python3.6/site-packages/sklearn/neural_network/multilayer_perceptron.py:921: DataConversionWarning: A column-vector y was passed when a 1d array was expected. Please change the shape of y to (n_samples, ), for example using ravel().\n",
      "  y = column_or_1d(y, warn=True)\n"
     ]
    },
    {
     "name": "stdout",
     "output_type": "stream",
     "text": [
      "Iteration 1, loss = 0.16827753\n",
      "Iteration 2, loss = 0.10769646\n",
      "Iteration 3, loss = 0.08249769\n",
      "Iteration 4, loss = 0.07176030\n",
      "Iteration 5, loss = 0.06753935\n",
      "Iteration 6, loss = 0.06596990\n",
      "Iteration 7, loss = 0.06536723\n",
      "Iteration 8, loss = 0.06513229\n",
      "Iteration 9, loss = 0.06502555\n",
      "Iteration 10, loss = 0.06498646\n",
      "Iteration 11, loss = 0.06495757\n",
      "Iteration 12, loss = 0.06493534\n",
      "Iteration 13, loss = 0.06490261\n",
      "Iteration 14, loss = 0.06487414\n",
      "Iteration 15, loss = 0.06483477\n",
      "Iteration 16, loss = 0.06478354\n",
      "Iteration 17, loss = 0.06467952\n",
      "Iteration 18, loss = 0.06454069\n",
      "Iteration 19, loss = 0.06435854\n",
      "Iteration 20, loss = 0.06412414\n",
      "Iteration 21, loss = 0.06383415\n",
      "Iteration 22, loss = 0.06351052\n",
      "Iteration 23, loss = 0.06316518\n",
      "Iteration 24, loss = 0.06279354\n",
      "Iteration 25, loss = 0.06243129\n",
      "Iteration 26, loss = 0.06209135\n",
      "Iteration 27, loss = 0.06174935\n",
      "Iteration 28, loss = 0.06143998\n",
      "Iteration 29, loss = 0.06116692\n",
      "Iteration 30, loss = 0.06091373\n",
      "Iteration 31, loss = 0.06068974\n",
      "Iteration 32, loss = 0.06045923\n",
      "Iteration 33, loss = 0.06027097\n",
      "Iteration 34, loss = 0.06008003\n",
      "Iteration 35, loss = 0.05991396\n",
      "Iteration 36, loss = 0.05975403\n",
      "Iteration 37, loss = 0.05959390\n",
      "Iteration 38, loss = 0.05945917\n",
      "Iteration 39, loss = 0.05931677\n",
      "Iteration 40, loss = 0.05918872\n",
      "Iteration 41, loss = 0.05907257\n",
      "Iteration 42, loss = 0.05896717\n",
      "Iteration 43, loss = 0.05886156\n",
      "Iteration 44, loss = 0.05876425\n",
      "Iteration 45, loss = 0.05866011\n",
      "Iteration 46, loss = 0.05859377\n",
      "Iteration 47, loss = 0.05852658\n",
      "Iteration 48, loss = 0.05845079\n",
      "Iteration 49, loss = 0.05837875\n",
      "Iteration 50, loss = 0.05832161\n",
      "Iteration 51, loss = 0.05825715\n",
      "Iteration 52, loss = 0.05820323\n",
      "Iteration 53, loss = 0.05815123\n",
      "Iteration 54, loss = 0.05810497\n",
      "Iteration 55, loss = 0.05806902\n",
      "Iteration 56, loss = 0.05802887\n",
      "Training loss did not improve more than tol=0.000100 for 10 consecutive epochs. Stopping.\n"
     ]
    },
    {
     "data": {
      "text/plain": [
       "MLPClassifier(activation='logistic', alpha=0.0001, batch_size='auto',\n",
       "              beta_1=0.9, beta_2=0.999, early_stopping=False, epsilon=1e-08,\n",
       "              hidden_layer_sizes=4, learning_rate='invscaling',\n",
       "              learning_rate_init=0.001, max_iter=20000, momentum=0.9,\n",
       "              n_iter_no_change=10, nesterovs_momentum=True, power_t=0.5,\n",
       "              random_state=42, shuffle=True, solver='adam', tol=0.0001,\n",
       "              validation_fraction=0.1, verbose=True, warm_start=False)"
      ]
     },
     "execution_count": 11,
     "metadata": {},
     "output_type": "execute_result"
    }
   ],
   "source": [
    "mlp = MLPClassifier(hidden_layer_sizes=(len(features)), \n",
    "                    activation='logistic', \n",
    "                    learning_rate='invscaling', \n",
    "                    random_state=42,\n",
    "                    verbose=True,\n",
    "                    max_iter=20000)\n",
    "mlp.fit(X_train,y_train)"
   ]
  },
  {
   "cell_type": "code",
   "execution_count": 12,
   "metadata": {},
   "outputs": [
    {
     "name": "stderr",
     "output_type": "stream",
     "text": [
      "/home/labs/fleishman/rosaliel/anaconda3/envs/pyrosetta/lib/python3.6/site-packages/sklearn/externals/joblib/__init__.py:15: DeprecationWarning: sklearn.externals.joblib is deprecated in 0.21 and will be removed in 0.23. Please import this functionality directly from joblib, which can be installed with: pip install joblib. If this warning is raised when loading pickled models, you may need to re-serialize those models with scikit-learn 0.21+.\n",
      "  warnings.warn(msg, category=DeprecationWarning)\n",
      "/home/labs/fleishman/rosaliel/anaconda3/envs/pyrosetta/lib/python3.6/site-packages/sklearn/base.py:306: UserWarning: Trying to unpickle estimator LabelBinarizer from version 0.19.1 when using version 0.21.2. This might lead to breaking code or invalid results. Use at your own risk.\n",
      "  UserWarning)\n",
      "/home/labs/fleishman/rosaliel/anaconda3/envs/pyrosetta/lib/python3.6/site-packages/sklearn/base.py:306: UserWarning: Trying to unpickle estimator MLPClassifier from version 0.19.1 when using version 0.21.2. This might lead to breaking code or invalid results. Use at your own risk.\n",
      "  UserWarning)\n"
     ]
    }
   ],
   "source": [
    "# Save Model Using joblib\n",
    "from sklearn.externals import joblib\n",
    "\n",
    "filename = '../ml_models/rnd1_bb_model.sav'\n",
    "\n",
    "# joblib.dump(mlp, filename)\n",
    "mlp = joblib.load(filename) # load the model from disk"
   ]
  },
  {
   "cell_type": "markdown",
   "metadata": {},
   "source": [
    "Plotting the loss curve, Should monotonously decline"
   ]
  },
  {
   "cell_type": "code",
   "execution_count": 13,
   "metadata": {},
   "outputs": [
    {
     "data": {
      "text/plain": [
       "[<matplotlib.lines.Line2D at 0x2b6385b7ca20>]"
      ]
     },
     "execution_count": 13,
     "metadata": {},
     "output_type": "execute_result"
    },
    {
     "data": {
      "image/png": "[encoded data removed]",
      "text/plain": [
       "<Figure size 432x288 with 1 Axes>"
      ]
     },
     "metadata": {
      "needs_background": "light"
     },
     "output_type": "display_data"
    }
   ],
   "source": [
    "plt.ion()\n",
    "ax = plt.gca()\n",
    "dir(ax)\n",
    "ax.set_title('loss curve')\n",
    "plt.plot(mlp.loss_curve_)"
   ]
  },
  {
   "cell_type": "markdown",
   "metadata": {},
   "source": [
    "### Analyzing predictions"
   ]
  },
  {
   "cell_type": "code",
   "execution_count": 14,
   "metadata": {},
   "outputs": [],
   "source": [
    "predictions = mlp.predict(data[FEATURES])"
   ]
  },
  {
   "cell_type": "code",
   "execution_count": 15,
   "metadata": {},
   "outputs": [
    {
     "data": {
      "text/html": [
       "<div>\n",
       "<style scoped>\n",
       "    .dataframe tbody tr th:only-of-type {\n",
       "        vertical-align: middle;\n",
       "    }\n",
       "\n",
       "    .dataframe tbody tr th {\n",
       "        vertical-align: top;\n",
       "    }\n",
       "\n",
       "    .dataframe thead th {\n",
       "        text-align: right;\n",
       "    }\n",
       "</style>\n",
       "<table border=\"1\" class=\"dataframe\">\n",
       "  <thead>\n",
       "    <tr style=\"text-align: right;\">\n",
       "      <th></th>\n",
       "      <th>TN</th>\n",
       "      <th>FP</th>\n",
       "      <th>FN</th>\n",
       "      <th>TP</th>\n",
       "    </tr>\n",
       "  </thead>\n",
       "  <tbody>\n",
       "    <tr>\n",
       "      <th>0</th>\n",
       "      <td>244718</td>\n",
       "      <td>3445</td>\n",
       "      <td>4283</td>\n",
       "      <td>8880</td>\n",
       "    </tr>\n",
       "  </tbody>\n",
       "</table>\n",
       "</div>"
      ],
      "text/plain": [
       "       TN    FP    FN    TP\n",
       "0  244718  3445  4283  8880"
      ]
     },
     "execution_count": 15,
     "metadata": {},
     "output_type": "execute_result"
    }
   ],
   "source": [
    "a = confusion_matrix(data[LABEL], predictions)\n",
    "rates = pd.DataFrame([[a[0,0], a[0,1], a[1,0], a[1,1]]], columns=['TN', 'FP', 'FN', 'TP'])\n",
    "rates"
   ]
  },
  {
   "cell_type": "code",
   "execution_count": 16,
   "metadata": {
    "scrolled": true
   },
   "outputs": [
    {
     "name": "stdout",
     "output_type": "stream",
     "text": [
      "              precision    recall  f1-score   support\n",
      "\n",
      "           0       0.98      0.99      0.98    248163\n",
      "           1       0.72      0.67      0.70     13163\n",
      "\n",
      "    accuracy                           0.97    261326\n",
      "   macro avg       0.85      0.83      0.84    261326\n",
      "weighted avg       0.97      0.97      0.97    261326\n",
      "\n"
     ]
    }
   ],
   "source": [
    "print(classification_report(data[LABEL], predictions))"
   ]
  },
  {
   "cell_type": "markdown",
   "metadata": {},
   "source": [
    "## 4. Extracting best features"
   ]
  },
  {
   "cell_type": "markdown",
   "metadata": {},
   "source": [
    "To get the activations of each input feature, we use an identity matrix and apply it to the NN-model"
   ]
  },
  {
   "cell_type": "code",
   "execution_count": 17,
   "metadata": {},
   "outputs": [],
   "source": [
    "pred_diag = pd.DataFrame([{col: 1} for col in FEATURES], columns=FEATURES)\n",
    "pred_diag.fillna(0, inplace=True)\n",
    "weights_activations = mlp.predict_proba(pred_diag)"
   ]
  },
  {
   "cell_type": "markdown",
   "metadata": {},
   "source": [
    "Just organazing the activation data, i.e. the ramking of the different fragments"
   ]
  },
  {
   "cell_type": "code",
   "execution_count": 18,
   "metadata": {},
   "outputs": [],
   "source": [
    "results_data = list()\n",
    "for i, r in pred_diag.iterrows():\n",
    "    c = [c for c, v in r.items() if v == 1]\n",
    "    assert len(c) == 1\n",
    "    c = c[0]\n",
    "    if '3w24_template' in c:\n",
    "        blade = c.replace('_3w24_template', '')\n",
    "        fragment = '3w24_template'\n",
    "    else: \n",
    "        c = c.split('_')\n",
    "        blade = '_'.join(c[:-1])\n",
    "        fragment = c[-1]\n",
    "    results_data.append({'blade': blade, \n",
    "                         'fragment': fragment,\n",
    "                         'weights_activations_0': weights_activations[i,0],\n",
    "                         'weights_activations_1': weights_activations[i,1]})\n",
    "results = pd.DataFrame(results_data)\n",
    "results = results.sort_values('weights_activations_1', ascending=False).reset_index(drop=True)"
   ]
  },
  {
   "cell_type": "code",
   "execution_count": 19,
   "metadata": {},
   "outputs": [
    {
     "data": {
      "text/html": [
       "<div>\n",
       "<style scoped>\n",
       "    .dataframe tbody tr th:only-of-type {\n",
       "        vertical-align: middle;\n",
       "    }\n",
       "\n",
       "    .dataframe tbody tr th {\n",
       "        vertical-align: top;\n",
       "    }\n",
       "\n",
       "    .dataframe thead th {\n",
       "        text-align: right;\n",
       "    }\n",
       "</style>\n",
       "<table border=\"1\" class=\"dataframe\">\n",
       "  <thead>\n",
       "    <tr style=\"text-align: right;\">\n",
       "      <th></th>\n",
       "      <th>blade</th>\n",
       "      <th>fragment</th>\n",
       "      <th>weights_activations_0</th>\n",
       "      <th>weights_activations_1</th>\n",
       "    </tr>\n",
       "  </thead>\n",
       "  <tbody>\n",
       "    <tr>\n",
       "      <th>0</th>\n",
       "      <td>blade7_8</td>\n",
       "      <td>1r85A</td>\n",
       "      <td>0.220341</td>\n",
       "      <td>0.779659</td>\n",
       "    </tr>\n",
       "    <tr>\n",
       "      <th>1</th>\n",
       "      <td>blade2_4</td>\n",
       "      <td>2depA</td>\n",
       "      <td>0.514012</td>\n",
       "      <td>0.485988</td>\n",
       "    </tr>\n",
       "    <tr>\n",
       "      <th>2</th>\n",
       "      <td>blade2_4</td>\n",
       "      <td>2wysB</td>\n",
       "      <td>0.556912</td>\n",
       "      <td>0.443088</td>\n",
       "    </tr>\n",
       "    <tr>\n",
       "      <th>3</th>\n",
       "      <td>blade2_4</td>\n",
       "      <td>4qdmB</td>\n",
       "      <td>0.670040</td>\n",
       "      <td>0.329960</td>\n",
       "    </tr>\n",
       "    <tr>\n",
       "      <th>4</th>\n",
       "      <td>blade2_4</td>\n",
       "      <td>3w24_template</td>\n",
       "      <td>0.679755</td>\n",
       "      <td>0.320245</td>\n",
       "    </tr>\n",
       "  </tbody>\n",
       "</table>\n",
       "</div>"
      ],
      "text/plain": [
       "      blade       fragment  weights_activations_0  weights_activations_1\n",
       "0  blade7_8          1r85A               0.220341               0.779659\n",
       "1  blade2_4          2depA               0.514012               0.485988\n",
       "2  blade2_4          2wysB               0.556912               0.443088\n",
       "3  blade2_4          4qdmB               0.670040               0.329960\n",
       "4  blade2_4  3w24_template               0.679755               0.320245"
      ]
     },
     "execution_count": 19,
     "metadata": {},
     "output_type": "execute_result"
    }
   ],
   "source": [
    "results.head()"
   ]
  },
  {
   "cell_type": "markdown",
   "metadata": {},
   "source": [
    "## 5. Select best fragments"
   ]
  },
  {
   "cell_type": "code",
   "execution_count": 20,
   "metadata": {},
   "outputs": [],
   "source": [
    "def get_matching_chimetras(data, blades):\n",
    "    \"\"\"Returns only mutants matching the resfile\n",
    "    :param data: dataframe of designed chimeras with columns named \"blade*\"\n",
    "    :param blades: [blade] = list of fragments of that blade. example: ['blade1'] = ['template', '4pud']\n",
    "    :return: onnly the designs that can be assembled from the fragments included in \"blades\"\n",
    "    \"\"\"\n",
    "    des2 = data.copy()\n",
    "    for blade, fragments in blades.items():\n",
    "        print('blade', blade)\n",
    "        print('len before', len(des2))\n",
    "        des2 = des2[des2[blade].isin(fragments)] \n",
    "        print('len after', len(des2))\n",
    "    return des2"
   ]
  },
  {
   "cell_type": "code",
   "execution_count": 21,
   "metadata": {},
   "outputs": [
    {
     "name": "stdout",
     "output_type": "stream",
     "text": [
      "blade blade1\n",
      "len before 261326\n",
      "len after 60306\n",
      "blade blade2_4\n",
      "len before 60306\n",
      "len after 18354\n",
      "blade blade5_6\n",
      "len before 18354\n",
      "len after 5796\n",
      "blade blade7_8\n",
      "len before 5796\n",
      "len after 1764\n"
     ]
    }
   ],
   "source": [
    "fragments_variants = dict()\n",
    "fragments_variants['blade1'] = results[results.blade == 'blade1'].fragment.tolist()[:6]\n",
    "fragments_variants['blade2_4'] = results[results.blade == 'blade2_4'].fragment.tolist()[:7]\n",
    "fragments_variants['blade5_6'] = results[results.blade == 'blade5_6'].fragment.tolist()[:6]\n",
    "fragments_variants['blade7_8'] = results[results.blade == 'blade7_8'].fragment.tolist()[:7]\n",
    "\n",
    "des2 = get_matching_chimetras(data, fragments_variants)"
   ]
  },
  {
   "cell_type": "code",
   "execution_count": 22,
   "metadata": {},
   "outputs": [
    {
     "name": "stdout",
     "output_type": "stream",
     "text": [
      "blade1 ['3w24_template', '4pueA', '4pmuD', '1us3A', '4qceA', '1nq6A']\n",
      "blade2_4 ['2depA', '2wysB', '4qdmB', '3w24_template', '1r86A', '3ro8B', '3muaB']\n",
      "blade5_6 ['3w24_template', '1w2pB', '4w8lB', '3ro8D', '1vbrB', '4pmdA']\n",
      "blade7_8 ['1r85A', '1uqzA', '4qdmA', '3muiB', '4hu8E', '3w24_template', '4k68A']\n"
     ]
    }
   ],
   "source": [
    "for b, f in fragments_variants.items():\n",
    "    print(b, f)"
   ]
  }
 ],
 "metadata": {
  "kernelspec": {
   "display_name": "Python 3",
   "language": "python",
   "name": "python3"
  },
  "language_info": {
   "codemirror_mode": {
    "name": "ipython",
    "version": 3
   },
   "file_extension": ".py",
   "mimetype": "text/x-python",
   "name": "python",
   "nbconvert_exporter": "python",
   "pygments_lexer": "ipython3",
   "version": "3.6.7"
  }
 },
 "nbformat": 4,
 "nbformat_minor": 4
}
